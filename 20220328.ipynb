{
  "nbformat": 4,
  "nbformat_minor": 0,
  "metadata": {
    "colab": {
      "name": "20220328.ipynb",
      "provenance": [],
      "collapsed_sections": [],
      "authorship_tag": "ABX9TyOzck93mfm1gzbivMWIqGmw",
      "include_colab_link": true
    },
    "kernelspec": {
      "name": "python3",
      "display_name": "Python 3"
    },
    "language_info": {
      "name": "python"
    }
  },
  "cells": [
    {
      "cell_type": "markdown",
      "metadata": {
        "id": "view-in-github",
        "colab_type": "text"
      },
      "source": [
        "<a href=\"https://colab.research.google.com/github/keembmjn/2022classspring/blob/main/20220328.ipynb\" target=\"_parent\"><img src=\"https://colab.research.google.com/assets/colab-badge.svg\" alt=\"Open In Colab\"/></a>"
      ]
    },
    {
      "cell_type": "code",
      "execution_count": 14,
      "metadata": {
        "colab": {
          "base_uri": "https://localhost:8080/"
        },
        "id": "gvrfkkvnJkpk",
        "outputId": "004b41d3-5cea-4d2c-f09e-6a75ffea8f13"
      },
      "outputs": [
        {
          "output_type": "stream",
          "name": "stdout",
          "text": [
            "Requirement already satisfied: gradio in /usr/local/lib/python3.7/dist-packages (2.9.1)\n",
            "Requirement already satisfied: orjson in /usr/local/lib/python3.7/dist-packages (from gradio) (3.6.7)\n",
            "Requirement already satisfied: pandas in /usr/local/lib/python3.7/dist-packages (from gradio) (1.3.5)\n",
            "Requirement already satisfied: pydub in /usr/local/lib/python3.7/dist-packages (from gradio) (0.25.1)\n",
            "Requirement already satisfied: analytics-python in /usr/local/lib/python3.7/dist-packages (from gradio) (1.4.0)\n",
            "Requirement already satisfied: pillow in /usr/local/lib/python3.7/dist-packages (from gradio) (7.1.2)\n",
            "Requirement already satisfied: fastapi in /usr/local/lib/python3.7/dist-packages (from gradio) (0.75.1)\n",
            "Requirement already satisfied: pycryptodome in /usr/local/lib/python3.7/dist-packages (from gradio) (3.14.1)\n",
            "Requirement already satisfied: requests in /usr/local/lib/python3.7/dist-packages (from gradio) (2.23.0)\n",
            "Requirement already satisfied: uvicorn in /usr/local/lib/python3.7/dist-packages (from gradio) (0.17.6)\n",
            "Requirement already satisfied: aiohttp in /usr/local/lib/python3.7/dist-packages (from gradio) (3.8.1)\n",
            "Requirement already satisfied: python-multipart in /usr/local/lib/python3.7/dist-packages (from gradio) (0.0.5)\n",
            "Requirement already satisfied: numpy in /usr/local/lib/python3.7/dist-packages (from gradio) (1.21.5)\n",
            "Requirement already satisfied: markdown-it-py[linkify,plugins] in /usr/local/lib/python3.7/dist-packages (from gradio) (2.0.1)\n",
            "Requirement already satisfied: matplotlib in /usr/local/lib/python3.7/dist-packages (from gradio) (3.2.2)\n",
            "Requirement already satisfied: paramiko in /usr/local/lib/python3.7/dist-packages (from gradio) (2.10.3)\n",
            "Requirement already satisfied: ffmpy in /usr/local/lib/python3.7/dist-packages (from gradio) (0.3.0)\n",
            "Requirement already satisfied: async-timeout<5.0,>=4.0.0a3 in /usr/local/lib/python3.7/dist-packages (from aiohttp->gradio) (4.0.2)\n",
            "Requirement already satisfied: typing-extensions>=3.7.4 in /usr/local/lib/python3.7/dist-packages (from aiohttp->gradio) (3.10.0.2)\n",
            "Requirement already satisfied: charset-normalizer<3.0,>=2.0 in /usr/local/lib/python3.7/dist-packages (from aiohttp->gradio) (2.0.12)\n",
            "Requirement already satisfied: asynctest==0.13.0 in /usr/local/lib/python3.7/dist-packages (from aiohttp->gradio) (0.13.0)\n",
            "Requirement already satisfied: aiosignal>=1.1.2 in /usr/local/lib/python3.7/dist-packages (from aiohttp->gradio) (1.2.0)\n",
            "Requirement already satisfied: attrs>=17.3.0 in /usr/local/lib/python3.7/dist-packages (from aiohttp->gradio) (21.4.0)\n",
            "Requirement already satisfied: yarl<2.0,>=1.0 in /usr/local/lib/python3.7/dist-packages (from aiohttp->gradio) (1.7.2)\n",
            "Requirement already satisfied: multidict<7.0,>=4.5 in /usr/local/lib/python3.7/dist-packages (from aiohttp->gradio) (6.0.2)\n",
            "Requirement already satisfied: frozenlist>=1.1.1 in /usr/local/lib/python3.7/dist-packages (from aiohttp->gradio) (1.3.0)\n",
            "Requirement already satisfied: idna>=2.0 in /usr/local/lib/python3.7/dist-packages (from yarl<2.0,>=1.0->aiohttp->gradio) (2.10)\n",
            "Requirement already satisfied: six>=1.5 in /usr/local/lib/python3.7/dist-packages (from analytics-python->gradio) (1.15.0)\n",
            "Requirement already satisfied: backoff==1.10.0 in /usr/local/lib/python3.7/dist-packages (from analytics-python->gradio) (1.10.0)\n",
            "Requirement already satisfied: monotonic>=1.5 in /usr/local/lib/python3.7/dist-packages (from analytics-python->gradio) (1.6)\n",
            "Requirement already satisfied: python-dateutil>2.1 in /usr/local/lib/python3.7/dist-packages (from analytics-python->gradio) (2.8.2)\n",
            "Requirement already satisfied: certifi>=2017.4.17 in /usr/local/lib/python3.7/dist-packages (from requests->gradio) (2021.10.8)\n",
            "Requirement already satisfied: urllib3!=1.25.0,!=1.25.1,<1.26,>=1.21.1 in /usr/local/lib/python3.7/dist-packages (from requests->gradio) (1.24.3)\n",
            "Requirement already satisfied: chardet<4,>=3.0.2 in /usr/local/lib/python3.7/dist-packages (from requests->gradio) (3.0.4)\n",
            "Requirement already satisfied: starlette==0.17.1 in /usr/local/lib/python3.7/dist-packages (from fastapi->gradio) (0.17.1)\n",
            "Requirement already satisfied: pydantic!=1.7,!=1.7.1,!=1.7.2,!=1.7.3,!=1.8,!=1.8.1,<2.0.0,>=1.6.2 in /usr/local/lib/python3.7/dist-packages (from fastapi->gradio) (1.9.0)\n",
            "Requirement already satisfied: anyio<4,>=3.0.0 in /usr/local/lib/python3.7/dist-packages (from starlette==0.17.1->fastapi->gradio) (3.5.0)\n",
            "Requirement already satisfied: sniffio>=1.1 in /usr/local/lib/python3.7/dist-packages (from anyio<4,>=3.0.0->starlette==0.17.1->fastapi->gradio) (1.2.0)\n",
            "Requirement already satisfied: mdurl~=0.1 in /usr/local/lib/python3.7/dist-packages (from markdown-it-py[linkify,plugins]->gradio) (0.1.0)\n",
            "Requirement already satisfied: linkify-it-py~=1.0 in /usr/local/lib/python3.7/dist-packages (from markdown-it-py[linkify,plugins]->gradio) (1.0.3)\n",
            "Requirement already satisfied: mdit-py-plugins in /usr/local/lib/python3.7/dist-packages (from markdown-it-py[linkify,plugins]->gradio) (0.3.0)\n",
            "Requirement already satisfied: uc-micro-py in /usr/local/lib/python3.7/dist-packages (from linkify-it-py~=1.0->markdown-it-py[linkify,plugins]->gradio) (1.0.1)\n",
            "Requirement already satisfied: cycler>=0.10 in /usr/local/lib/python3.7/dist-packages (from matplotlib->gradio) (0.11.0)\n",
            "Requirement already satisfied: kiwisolver>=1.0.1 in /usr/local/lib/python3.7/dist-packages (from matplotlib->gradio) (1.4.0)\n",
            "Requirement already satisfied: pyparsing!=2.0.4,!=2.1.2,!=2.1.6,>=2.0.1 in /usr/local/lib/python3.7/dist-packages (from matplotlib->gradio) (3.0.7)\n",
            "Requirement already satisfied: pytz>=2017.3 in /usr/local/lib/python3.7/dist-packages (from pandas->gradio) (2018.9)\n",
            "Requirement already satisfied: bcrypt>=3.1.3 in /usr/local/lib/python3.7/dist-packages (from paramiko->gradio) (3.2.0)\n",
            "Requirement already satisfied: cryptography>=2.5 in /usr/local/lib/python3.7/dist-packages (from paramiko->gradio) (36.0.2)\n",
            "Requirement already satisfied: pynacl>=1.0.1 in /usr/local/lib/python3.7/dist-packages (from paramiko->gradio) (1.5.0)\n",
            "Requirement already satisfied: cffi>=1.1 in /usr/local/lib/python3.7/dist-packages (from bcrypt>=3.1.3->paramiko->gradio) (1.15.0)\n",
            "Requirement already satisfied: pycparser in /usr/local/lib/python3.7/dist-packages (from cffi>=1.1->bcrypt>=3.1.3->paramiko->gradio) (2.21)\n",
            "Requirement already satisfied: click>=7.0 in /usr/local/lib/python3.7/dist-packages (from uvicorn->gradio) (7.1.2)\n",
            "Requirement already satisfied: asgiref>=3.4.0 in /usr/local/lib/python3.7/dist-packages (from uvicorn->gradio) (3.5.0)\n",
            "Requirement already satisfied: h11>=0.8 in /usr/local/lib/python3.7/dist-packages (from uvicorn->gradio) (0.13.0)\n"
          ]
        }
      ],
      "source": [
        "!pip install gradio\n",
        "import gradio as gr\n",
        "import requests\n",
        "import pandas as pd"
      ]
    },
    {
      "cell_type": "code",
      "source": [
        "URL = ('http://apis.data.go.kr/5080000/hsfhgService/getHsfhg?serviceKey=8YKMvZ3dVbgolMXuhxxuZZdRUhKTnQptJ8ONT4K3ad2WxpL7iTSkTV7PHLAsRd9jXmmSksVL%2ByJiAW6B0z2x%2BQ%3D%3D&pageNo=1&numOfRows=10&emd=도량동')\n",
        "\n",
        "response = requests.get(URL)"
      ],
      "metadata": {
        "id": "_87OdM13JxJg"
      },
      "execution_count": 24,
      "outputs": []
    },
    {
      "cell_type": "code",
      "source": [
        "r = response.json()\n",
        "r"
      ],
      "metadata": {
        "colab": {
          "base_uri": "https://localhost:8080/"
        },
        "id": "kN--AdchLFSb",
        "outputId": "aa352ef6-9d8f-4b3c-eb07-ed5fee5fa250"
      },
      "execution_count": 25,
      "outputs": [
        {
          "output_type": "execute_result",
          "data": {
            "text/plain": [
              "{'body': [{'emd': '도량동',\n",
              "   'hsfhg_nm': '도량1동경로당',\n",
              "   'lnm_adres': '도량동 792-223',\n",
              "   'rn_adres': '문장로 45',\n",
              "   'sn': 24},\n",
              "  {'emd': '도량동',\n",
              "   'hsfhg_nm': '럭키전원맨션경로당',\n",
              "   'lnm_adres': '도량동 750',\n",
              "   'rn_adres': '문장로 14길 22',\n",
              "   'sn': 25},\n",
              "  {'emd': '도량동',\n",
              "   'hsfhg_nm': '귀빈맨션경로당',\n",
              "   'lnm_adres': '도량동 670',\n",
              "   'rn_adres': '문장로 125',\n",
              "   'sn': 26},\n",
              "  {'emd': '도량동',\n",
              "   'hsfhg_nm': '도량미광아파트경로당',\n",
              "   'lnm_adres': '도량동 759',\n",
              "   'rn_adres': '문장로 14길 46',\n",
              "   'sn': 27},\n",
              "  {'emd': '도량동',\n",
              "   'hsfhg_nm': '도량2동할아버지경로당',\n",
              "   'lnm_adres': '도량동 265-9 2층',\n",
              "   'rn_adres': '송동로 63-8, 2층',\n",
              "   'sn': 28},\n",
              "  {'emd': '도량동',\n",
              "   'hsfhg_nm': '도량2동할머니경로당',\n",
              "   'lnm_adres': '도량동 265-9 1층',\n",
              "   'rn_adres': '송동로 63-8, 1층',\n",
              "   'sn': 29},\n",
              "  {'emd': '도량동',\n",
              "   'hsfhg_nm': '도량3주공경로당',\n",
              "   'lnm_adres': '도량동 88',\n",
              "   'rn_adres': '송동로 147',\n",
              "   'sn': 30},\n",
              "  {'emd': '도량동',\n",
              "   'hsfhg_nm': '도량파크맨션경로당',\n",
              "   'lnm_adres': '도량동 77',\n",
              "   'rn_adres': '송동로 154',\n",
              "   'sn': 31},\n",
              "  {'emd': '도량동',\n",
              "   'hsfhg_nm': '도량한빛타운경로당',\n",
              "   'lnm_adres': '도량동 112',\n",
              "   'rn_adres': '송동로 105',\n",
              "   'sn': 32},\n",
              "  {'emd': '도량동',\n",
              "   'hsfhg_nm': '도량4주공아파트경로당',\n",
              "   'lnm_adres': '도량동 114',\n",
              "   'rn_adres': '송동로 128',\n",
              "   'sn': 33}],\n",
              " 'header': {'numOfRows': 10,\n",
              "  'pageNo': 1,\n",
              "  'resultCode': '00',\n",
              "  'resultMsg': 'NORMAL_SERVICE',\n",
              "  'totalCount': 17}}"
            ]
          },
          "metadata": {},
          "execution_count": 25
        }
      ]
    },
    {
      "cell_type": "code",
      "source": [
        "def test(emd):\n",
        "  URL = ('http://apis.data.go.kr/5080000/hsfhgService/getHsfhg?serviceKey=8YKMvZ3dVbgolMXuhxxuZZdRUhKTnQptJ8ONT4K3ad2WxpL7iTSkTV7PHLAsRd9jXmmSksVL%2ByJiAW6B0z2x%2BQ%3D%3D&pageNo=1&emd='+emd+'&numOfRows=10')\n",
        "  \n",
        "  response = requests.get(URL)\n",
        "  r = response.json()\n",
        "  items = r['body']\n",
        "\n",
        "  emd = [item['emd'] for item in items]\n",
        "  hsfhg_nm = [item['hsfhg_nm'] for item in items]\n",
        "  lnm_adres = [item['lnm_adres'] for item in items]\n",
        "  rn_adres = [item['rn_adres'] for item in items]\n",
        "  sn = [item['sn'] for item in items]\n",
        "\n",
        "  emd = pd.Series(emd)\n",
        "  hsfhg_nm = pd.Series(hsfhg_nm)   \n",
        "  lnm_adres = pd.Series(lnm_adres)\n",
        "  rn_adres = pd.Series(rn_adres)\n",
        "  sn = pd.Series(sn)\n",
        " \n",
        "  df = pd.DataFrame({ 'emd' : emd, 'hsfhg_nm': hsfhg_nm, 'lnm_adres': lnm_adres, 'rn_adres': rn_adres, 'sn' : sn})\n",
        "  return df"
      ],
      "metadata": {
        "id": "G5Pm56FJN23k"
      },
      "execution_count": 28,
      "outputs": []
    },
    {
      "cell_type": "code",
      "source": [
        "iface = gr.Interface(test, gr.inputs.Dropdown(['송정동', '도량동', '지산동', '비산동', '인동동', '상모사곡동', '진미동', '광평동']), outputs=['dataframe'])\n",
        "iface.launch(debug=True)"
      ],
      "metadata": {
        "colab": {
          "base_uri": "https://localhost:8080/",
          "height": 665
        },
        "id": "utwSaDtVPagF",
        "outputId": "00f59953-b0da-465b-ee46-097449243317"
      },
      "execution_count": 31,
      "outputs": [
        {
          "output_type": "stream",
          "name": "stdout",
          "text": [
            "Colab notebook detected. This cell will run indefinitely so that you can see errors and logs. To turn off, set debug=False in launch().\n",
            "Running on public URL: https://42888.gradio.app\n",
            "\n",
            "This share link expires in 72 hours. For free permanent hosting, check out Spaces (https://huggingface.co/spaces)\n"
          ]
        },
        {
          "output_type": "display_data",
          "data": {
            "text/plain": [
              "<IPython.lib.display.IFrame at 0x7fc786581650>"
            ],
            "text/html": [
              "\n",
              "        <iframe\n",
              "            width=\"900\"\n",
              "            height=\"500\"\n",
              "            src=\"https://42888.gradio.app\"\n",
              "            frameborder=\"0\"\n",
              "            allowfullscreen\n",
              "        ></iframe>\n",
              "        "
            ]
          },
          "metadata": {}
        },
        {
          "output_type": "stream",
          "name": "stdout",
          "text": [
            "Keyboard interruption in main thread... closing server.\n"
          ]
        },
        {
          "output_type": "execute_result",
          "data": {
            "text/plain": [
              "(<fastapi.applications.FastAPI at 0x7fc7904f7650>,\n",
              " 'http://127.0.0.1:7860/',\n",
              " 'https://42888.gradio.app')"
            ]
          },
          "metadata": {},
          "execution_count": 31
        }
      ]
    }
  ]
}